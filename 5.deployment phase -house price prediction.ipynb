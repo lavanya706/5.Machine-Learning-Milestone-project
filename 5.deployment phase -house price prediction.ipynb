{
 "cells": [
  {
   "cell_type": "code",
   "execution_count": 1,
   "id": "e676a1e2",
   "metadata": {},
   "outputs": [],
   "source": [
    "#import the saved model\n",
    "import pickle"
   ]
  },
  {
   "cell_type": "code",
   "execution_count": 2,
   "id": "01f3b421",
   "metadata": {},
   "outputs": [
    {
     "name": "stdout",
     "output_type": "stream",
     "text": [
      "Predicted house price: 65000.0\n"
     ]
    }
   ],
   "source": [
    "# Load the saved model\n",
    "loaded_model = pickle.load(open(\"finalized_model_house_price.sav\", 'rb'))\n",
    "\n",
    "def predict_house_price(BHK, total_sqft, bath, balcony):\n",
    "    # Preprocess input data if necessary\n",
    "    input_data = [[BHK, total_sqft, bath, balcony]]\n",
    "    \n",
    "    # Make predictions\n",
    "    predicted_price = loaded_model.predict(input_data)\n",
    "    \n",
    "    return predicted_price[0]\n",
    "\n",
    "# Example usage\n",
    "predicted_price = predict_house_price(1, 1000, 1, 1)\n",
    "print(\"Predicted house price:\", predicted_price)\n"
   ]
  },
  {
   "cell_type": "code",
   "execution_count": null,
   "id": "44b17b30",
   "metadata": {},
   "outputs": [],
   "source": []
  }
 ],
 "metadata": {
  "kernelspec": {
   "display_name": "Python 3 (ipykernel)",
   "language": "python",
   "name": "python3"
  },
  "language_info": {
   "codemirror_mode": {
    "name": "ipython",
    "version": 3
   },
   "file_extension": ".py",
   "mimetype": "text/x-python",
   "name": "python",
   "nbconvert_exporter": "python",
   "pygments_lexer": "ipython3",
   "version": "3.7.16"
  }
 },
 "nbformat": 4,
 "nbformat_minor": 5
}
