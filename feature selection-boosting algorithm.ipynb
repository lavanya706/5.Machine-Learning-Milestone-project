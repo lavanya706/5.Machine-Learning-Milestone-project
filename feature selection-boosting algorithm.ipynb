{
 "cells": [
  {
   "cell_type": "code",
   "execution_count": 27,
   "id": "8ce9f7df",
   "metadata": {},
   "outputs": [],
   "source": [
    "import pandas as pd\n",
    "from sklearn.model_selection import train_test_split\n",
    "from sklearn.pipeline import Pipeline\n",
    "from sklearn.ensemble import AdaBoostRegressor\n",
    "from lightgbm import LGBMRegressor\n",
    "from xgboost import XGBRegressor\n",
    "from sklearn.metrics import r2_score\n",
    "from sklearn.feature_selection import SelectKBest"
   ]
  },
  {
   "cell_type": "code",
   "execution_count": 28,
   "id": "2e050607",
   "metadata": {},
   "outputs": [],
   "source": [
    "# Load your dataset (replace 'cleaned_data_house_price.csv' with your dataset file)\n",
    "dataset = pd.read_csv(\"cleaned_data_house_price.csv\")\n"
   ]
  },
  {
   "cell_type": "code",
   "execution_count": 29,
   "id": "bc30c19f",
   "metadata": {},
   "outputs": [],
   "source": [
    "dataset1 = pd.read_csv(\"cleaned_data_house_price.csv\", index_col=None)\n",
    "\n",
    "# Take a backup of the original dataset\n",
    "df2 = dataset1.copy()\n",
    "\n",
    "# Perform one-hot encoding to handle categorical variables\n",
    "df2 = pd.get_dummies(df2, drop_first=True)  # remove first redundant col wrt to nominal col\n",
    "\n",
    "\n",
    "# Assuming 'price_per_sqft' is your target variable, and other columns are features\n",
    "X = df2.drop(columns=['price_per_sqft'])\n",
    "y = df2['price_per_sqft']"
   ]
  },
  {
   "cell_type": "code",
   "execution_count": 30,
   "id": "aab7dd53",
   "metadata": {},
   "outputs": [],
   "source": [
    "# Split data into train and test sets\n",
    "X_train, X_test, y_train, y_test = train_test_split(X, y, test_size=0.2, random_state=42)"
   ]
  },
  {
   "cell_type": "code",
   "execution_count": 31,
   "id": "ec05a63d",
   "metadata": {},
   "outputs": [],
   "source": [
    "# Create a pipeline with feature selection and boosting regressor (AdaBoost)\n",
    "ada_pipeline = Pipeline([\n",
    "    ('feature_selection', SelectKBest(k=2)),  # Select the top k features\n",
    "    ('boosting', AdaBoostRegressor())  # AdaBoost regressor\n",
    "])\n"
   ]
  },
  {
   "cell_type": "code",
   "execution_count": 32,
   "id": "7df17fef",
   "metadata": {},
   "outputs": [],
   "source": [
    "# Create a pipeline with feature selection and boosting regressor (LightGBM)\n",
    "lgbm_pipeline = Pipeline([\n",
    "    ('feature_selection', SelectKBest(k=2)),  # Select the top k features\n",
    "    ('boosting', LGBMRegressor())  # LightGBM regressor\n",
    "])"
   ]
  },
  {
   "cell_type": "code",
   "execution_count": 34,
   "id": "6db239bb",
   "metadata": {},
   "outputs": [],
   "source": [
    "# Create a pipeline with feature selection and boosting regressor (XGBoost)\n",
    "xgb_pipeline = Pipeline([\n",
    "    ('feature_selection', SelectKBest(k=2)),  # Select the top k features\n",
    "    ('boosting', XGBRegressor())  # XGBoost regressor\n",
    "])\n"
   ]
  },
  {
   "cell_type": "code",
   "execution_count": 35,
   "id": "122a7afc",
   "metadata": {},
   "outputs": [
    {
     "name": "stderr",
     "output_type": "stream",
     "text": [
      "C:\\Users\\lavanya\\anaconda3\\envs\\aiml\\lib\\site-packages\\sklearn\\feature_selection\\_univariate_selection.py:112: UserWarning: Features [  5   7   9  12  13  16  18  19  21  22  24  28  32  36  39  40  41  42\n",
      "  45  46  47  49  65  66  68  69  72  74  75  78  85  91  95  98 102 106\n",
      " 107 112 114 118 119 123 125 128 139 148 151 152 156 159 162 170 171 175\n",
      " 183 186 187 189 196 202 203 211 214 220 221 222 225 229 237 242 245 251\n",
      " 252 265 266 272 273 274 275 277 284 287 289 293 294 296 300 301 303 315\n",
      " 323 329 330 337 338 340 342 344 351 355 359 361 362 364 370 376 384 387\n",
      " 392 394 395 398 401 419 421 424 430 431 433 449 454 456 458 459 469 473\n",
      " 474 476 481 485 489 498 500 506 507 510 512 522 544 545 547 556 557 558\n",
      " 560 561 565 570 575 584 599 607 609 611 613 621 623 624 626 627 635 638\n",
      " 639 641 642 645 649 652 653 656 658 662 663 668 675 678 679 680 685 697\n",
      " 700 706 708 712 713 714 715 717 718 722 724 727 728 730 734 735 737 739\n",
      " 741 745 747 753 757 763 768 769 775 786 788 789 790 794 800 804 806 807\n",
      " 808 810 814 819 820 821 832 836 841 843 846 847 848 849 850 853 857 860\n",
      " 863 864 865 875 876 879 880 882 888 891 893 895 898 899 900 901 902 903\n",
      " 904 907] are constant.\n",
      "  warnings.warn(\"Features %s are constant.\" % constant_features_idx, UserWarning)\n",
      "C:\\Users\\lavanya\\anaconda3\\envs\\aiml\\lib\\site-packages\\sklearn\\feature_selection\\_univariate_selection.py:113: RuntimeWarning: divide by zero encountered in true_divide\n",
      "  f = msb / msw\n",
      "C:\\Users\\lavanya\\anaconda3\\envs\\aiml\\lib\\site-packages\\sklearn\\feature_selection\\_univariate_selection.py:113: RuntimeWarning: invalid value encountered in true_divide\n",
      "  f = msb / msw\n",
      "C:\\Users\\lavanya\\anaconda3\\envs\\aiml\\lib\\site-packages\\sklearn\\feature_selection\\_univariate_selection.py:112: UserWarning: Features [  5   7   9  12  13  16  18  19  21  22  24  28  32  36  39  40  41  42\n",
      "  45  46  47  49  65  66  68  69  72  74  75  78  85  91  95  98 102 106\n",
      " 107 112 114 118 119 123 125 128 139 148 151 152 156 159 162 170 171 175\n",
      " 183 186 187 189 196 202 203 211 214 220 221 222 225 229 237 242 245 251\n",
      " 252 265 266 272 273 274 275 277 284 287 289 293 294 296 300 301 303 315\n",
      " 323 329 330 337 338 340 342 344 351 355 359 361 362 364 370 376 384 387\n",
      " 392 394 395 398 401 419 421 424 430 431 433 449 454 456 458 459 469 473\n",
      " 474 476 481 485 489 498 500 506 507 510 512 522 544 545 547 556 557 558\n",
      " 560 561 565 570 575 584 599 607 609 611 613 621 623 624 626 627 635 638\n",
      " 639 641 642 645 649 652 653 656 658 662 663 668 675 678 679 680 685 697\n",
      " 700 706 708 712 713 714 715 717 718 722 724 727 728 730 734 735 737 739\n",
      " 741 745 747 753 757 763 768 769 775 786 788 789 790 794 800 804 806 807\n",
      " 808 810 814 819 820 821 832 836 841 843 846 847 848 849 850 853 857 860\n",
      " 863 864 865 875 876 879 880 882 888 891 893 895 898 899 900 901 902 903\n",
      " 904 907] are constant.\n",
      "  warnings.warn(\"Features %s are constant.\" % constant_features_idx, UserWarning)\n",
      "C:\\Users\\lavanya\\anaconda3\\envs\\aiml\\lib\\site-packages\\sklearn\\feature_selection\\_univariate_selection.py:113: RuntimeWarning: divide by zero encountered in true_divide\n",
      "  f = msb / msw\n",
      "C:\\Users\\lavanya\\anaconda3\\envs\\aiml\\lib\\site-packages\\sklearn\\feature_selection\\_univariate_selection.py:113: RuntimeWarning: invalid value encountered in true_divide\n",
      "  f = msb / msw\n"
     ]
    },
    {
     "name": "stdout",
     "output_type": "stream",
     "text": [
      "[LightGBM] [Warning] There are no meaningful features which satisfy the provided configuration. Decreasing Dataset parameters min_data_in_bin or min_data_in_leaf and re-constructing Dataset might resolve this warning.\n",
      "[LightGBM] [Info] Total Bins 0\n",
      "[LightGBM] [Info] Number of data points in the train set: 6888, number of used features: 0\n",
      "[LightGBM] [Info] Start training from score 49974.392346\n",
      "[LightGBM] [Warning] Stopped training because there are no more leaves that meet the split requirements\n",
      "[LightGBM] [Warning] Stopped training because there are no more leaves that meet the split requirements\n",
      "[LightGBM] [Warning] Stopped training because there are no more leaves that meet the split requirements\n",
      "[LightGBM] [Warning] Stopped training because there are no more leaves that meet the split requirements\n",
      "[LightGBM] [Warning] Stopped training because there are no more leaves that meet the split requirements\n",
      "[LightGBM] [Warning] Stopped training because there are no more leaves that meet the split requirements\n",
      "[LightGBM] [Warning] Stopped training because there are no more leaves that meet the split requirements\n",
      "[LightGBM] [Warning] Stopped training because there are no more leaves that meet the split requirements\n",
      "[LightGBM] [Warning] Stopped training because there are no more leaves that meet the split requirements\n",
      "[LightGBM] [Warning] Stopped training because there are no more leaves that meet the split requirements\n",
      "[LightGBM] [Warning] Stopped training because there are no more leaves that meet the split requirements\n",
      "[LightGBM] [Warning] Stopped training because there are no more leaves that meet the split requirements\n",
      "[LightGBM] [Warning] Stopped training because there are no more leaves that meet the split requirements\n",
      "[LightGBM] [Warning] Stopped training because there are no more leaves that meet the split requirements\n",
      "[LightGBM] [Warning] Stopped training because there are no more leaves that meet the split requirements\n",
      "[LightGBM] [Warning] Stopped training because there are no more leaves that meet the split requirements\n",
      "[LightGBM] [Warning] Stopped training because there are no more leaves that meet the split requirements\n",
      "[LightGBM] [Warning] Stopped training because there are no more leaves that meet the split requirements\n",
      "[LightGBM] [Warning] Stopped training because there are no more leaves that meet the split requirements\n",
      "[LightGBM] [Warning] Stopped training because there are no more leaves that meet the split requirements\n",
      "[LightGBM] [Warning] Stopped training because there are no more leaves that meet the split requirements\n",
      "[LightGBM] [Warning] Stopped training because there are no more leaves that meet the split requirements\n",
      "[LightGBM] [Warning] Stopped training because there are no more leaves that meet the split requirements\n",
      "[LightGBM] [Warning] Stopped training because there are no more leaves that meet the split requirements\n",
      "[LightGBM] [Warning] Stopped training because there are no more leaves that meet the split requirements\n",
      "[LightGBM] [Warning] Stopped training because there are no more leaves that meet the split requirements\n",
      "[LightGBM] [Warning] Stopped training because there are no more leaves that meet the split requirements\n",
      "[LightGBM] [Warning] Stopped training because there are no more leaves that meet the split requirements\n",
      "[LightGBM] [Warning] Stopped training because there are no more leaves that meet the split requirements\n",
      "[LightGBM] [Warning] Stopped training because there are no more leaves that meet the split requirements\n",
      "[LightGBM] [Warning] Stopped training because there are no more leaves that meet the split requirements\n",
      "[LightGBM] [Warning] Stopped training because there are no more leaves that meet the split requirements\n",
      "[LightGBM] [Warning] Stopped training because there are no more leaves that meet the split requirements\n",
      "[LightGBM] [Warning] Stopped training because there are no more leaves that meet the split requirements\n",
      "[LightGBM] [Warning] Stopped training because there are no more leaves that meet the split requirements\n",
      "[LightGBM] [Warning] Stopped training because there are no more leaves that meet the split requirements\n",
      "[LightGBM] [Warning] Stopped training because there are no more leaves that meet the split requirements\n",
      "[LightGBM] [Warning] Stopped training because there are no more leaves that meet the split requirements\n",
      "[LightGBM] [Warning] Stopped training because there are no more leaves that meet the split requirements\n",
      "[LightGBM] [Warning] Stopped training because there are no more leaves that meet the split requirements\n",
      "[LightGBM] [Warning] Stopped training because there are no more leaves that meet the split requirements\n",
      "[LightGBM] [Warning] Stopped training because there are no more leaves that meet the split requirements\n",
      "[LightGBM] [Warning] Stopped training because there are no more leaves that meet the split requirements\n",
      "[LightGBM] [Warning] Stopped training because there are no more leaves that meet the split requirements\n",
      "[LightGBM] [Warning] Stopped training because there are no more leaves that meet the split requirements\n",
      "[LightGBM] [Warning] Stopped training because there are no more leaves that meet the split requirements\n",
      "[LightGBM] [Warning] Stopped training because there are no more leaves that meet the split requirements\n",
      "[LightGBM] [Warning] Stopped training because there are no more leaves that meet the split requirements\n",
      "[LightGBM] [Warning] Stopped training because there are no more leaves that meet the split requirements\n",
      "[LightGBM] [Warning] Stopped training because there are no more leaves that meet the split requirements\n",
      "[LightGBM] [Warning] Stopped training because there are no more leaves that meet the split requirements\n",
      "[LightGBM] [Warning] Stopped training because there are no more leaves that meet the split requirements\n",
      "[LightGBM] [Warning] Stopped training because there are no more leaves that meet the split requirements\n",
      "[LightGBM] [Warning] Stopped training because there are no more leaves that meet the split requirements\n",
      "[LightGBM] [Warning] Stopped training because there are no more leaves that meet the split requirements\n",
      "[LightGBM] [Warning] Stopped training because there are no more leaves that meet the split requirements\n",
      "[LightGBM] [Warning] Stopped training because there are no more leaves that meet the split requirements\n",
      "[LightGBM] [Warning] Stopped training because there are no more leaves that meet the split requirements\n",
      "[LightGBM] [Warning] Stopped training because there are no more leaves that meet the split requirements\n",
      "[LightGBM] [Warning] Stopped training because there are no more leaves that meet the split requirements\n",
      "[LightGBM] [Warning] Stopped training because there are no more leaves that meet the split requirements\n",
      "[LightGBM] [Warning] Stopped training because there are no more leaves that meet the split requirements\n",
      "[LightGBM] [Warning] Stopped training because there are no more leaves that meet the split requirements\n",
      "[LightGBM] [Warning] Stopped training because there are no more leaves that meet the split requirements\n",
      "[LightGBM] [Warning] Stopped training because there are no more leaves that meet the split requirements\n",
      "[LightGBM] [Warning] Stopped training because there are no more leaves that meet the split requirements\n",
      "[LightGBM] [Warning] Stopped training because there are no more leaves that meet the split requirements\n",
      "[LightGBM] [Warning] Stopped training because there are no more leaves that meet the split requirements\n",
      "[LightGBM] [Warning] Stopped training because there are no more leaves that meet the split requirements\n",
      "[LightGBM] [Warning] Stopped training because there are no more leaves that meet the split requirements\n",
      "[LightGBM] [Warning] Stopped training because there are no more leaves that meet the split requirements\n",
      "[LightGBM] [Warning] Stopped training because there are no more leaves that meet the split requirements\n",
      "[LightGBM] [Warning] Stopped training because there are no more leaves that meet the split requirements\n",
      "[LightGBM] [Warning] Stopped training because there are no more leaves that meet the split requirements\n",
      "[LightGBM] [Warning] Stopped training because there are no more leaves that meet the split requirements\n",
      "[LightGBM] [Warning] Stopped training because there are no more leaves that meet the split requirements\n",
      "[LightGBM] [Warning] Stopped training because there are no more leaves that meet the split requirements\n",
      "[LightGBM] [Warning] Stopped training because there are no more leaves that meet the split requirements\n",
      "[LightGBM] [Warning] Stopped training because there are no more leaves that meet the split requirements\n",
      "[LightGBM] [Warning] Stopped training because there are no more leaves that meet the split requirements\n",
      "[LightGBM] [Warning] Stopped training because there are no more leaves that meet the split requirements\n",
      "[LightGBM] [Warning] Stopped training because there are no more leaves that meet the split requirements\n",
      "[LightGBM] [Warning] Stopped training because there are no more leaves that meet the split requirements\n",
      "[LightGBM] [Warning] Stopped training because there are no more leaves that meet the split requirements\n",
      "[LightGBM] [Warning] Stopped training because there are no more leaves that meet the split requirements\n",
      "[LightGBM] [Warning] Stopped training because there are no more leaves that meet the split requirements\n",
      "[LightGBM] [Warning] Stopped training because there are no more leaves that meet the split requirements\n",
      "[LightGBM] [Warning] Stopped training because there are no more leaves that meet the split requirements\n",
      "[LightGBM] [Warning] Stopped training because there are no more leaves that meet the split requirements\n",
      "[LightGBM] [Warning] Stopped training because there are no more leaves that meet the split requirements\n",
      "[LightGBM] [Warning] Stopped training because there are no more leaves that meet the split requirements\n",
      "[LightGBM] [Warning] Stopped training because there are no more leaves that meet the split requirements\n",
      "[LightGBM] [Warning] Stopped training because there are no more leaves that meet the split requirements\n",
      "[LightGBM] [Warning] Stopped training because there are no more leaves that meet the split requirements\n",
      "[LightGBM] [Warning] Stopped training because there are no more leaves that meet the split requirements\n",
      "[LightGBM] [Warning] Stopped training because there are no more leaves that meet the split requirements\n",
      "[LightGBM] [Warning] Stopped training because there are no more leaves that meet the split requirements\n",
      "[LightGBM] [Warning] Stopped training because there are no more leaves that meet the split requirements\n",
      "[LightGBM] [Warning] Stopped training because there are no more leaves that meet the split requirements\n",
      "[LightGBM] [Warning] Stopped training because there are no more leaves that meet the split requirements\n"
     ]
    },
    {
     "name": "stderr",
     "output_type": "stream",
     "text": [
      "C:\\Users\\lavanya\\anaconda3\\envs\\aiml\\lib\\site-packages\\sklearn\\feature_selection\\_univariate_selection.py:112: UserWarning: Features [  5   7   9  12  13  16  18  19  21  22  24  28  32  36  39  40  41  42\n",
      "  45  46  47  49  65  66  68  69  72  74  75  78  85  91  95  98 102 106\n",
      " 107 112 114 118 119 123 125 128 139 148 151 152 156 159 162 170 171 175\n",
      " 183 186 187 189 196 202 203 211 214 220 221 222 225 229 237 242 245 251\n",
      " 252 265 266 272 273 274 275 277 284 287 289 293 294 296 300 301 303 315\n",
      " 323 329 330 337 338 340 342 344 351 355 359 361 362 364 370 376 384 387\n",
      " 392 394 395 398 401 419 421 424 430 431 433 449 454 456 458 459 469 473\n",
      " 474 476 481 485 489 498 500 506 507 510 512 522 544 545 547 556 557 558\n",
      " 560 561 565 570 575 584 599 607 609 611 613 621 623 624 626 627 635 638\n",
      " 639 641 642 645 649 652 653 656 658 662 663 668 675 678 679 680 685 697\n",
      " 700 706 708 712 713 714 715 717 718 722 724 727 728 730 734 735 737 739\n",
      " 741 745 747 753 757 763 768 769 775 786 788 789 790 794 800 804 806 807\n",
      " 808 810 814 819 820 821 832 836 841 843 846 847 848 849 850 853 857 860\n",
      " 863 864 865 875 876 879 880 882 888 891 893 895 898 899 900 901 902 903\n",
      " 904 907] are constant.\n",
      "  warnings.warn(\"Features %s are constant.\" % constant_features_idx, UserWarning)\n",
      "C:\\Users\\lavanya\\anaconda3\\envs\\aiml\\lib\\site-packages\\sklearn\\feature_selection\\_univariate_selection.py:113: RuntimeWarning: divide by zero encountered in true_divide\n",
      "  f = msb / msw\n",
      "C:\\Users\\lavanya\\anaconda3\\envs\\aiml\\lib\\site-packages\\sklearn\\feature_selection\\_univariate_selection.py:113: RuntimeWarning: invalid value encountered in true_divide\n",
      "  f = msb / msw\n"
     ]
    },
    {
     "data": {
      "text/plain": [
       "Pipeline(steps=[('feature_selection', SelectKBest(k=2)),\n",
       "                ('boosting',\n",
       "                 XGBRegressor(base_score=0.5, booster='gbtree', callbacks=None,\n",
       "                              colsample_bylevel=1, colsample_bynode=1,\n",
       "                              colsample_bytree=1, early_stopping_rounds=None,\n",
       "                              enable_categorical=False, eval_metric=None,\n",
       "                              gamma=0, gpu_id=-1, grow_policy='depthwise',\n",
       "                              importance_type=None, interaction_constraints='',\n",
       "                              learning_rate=0.300000012, max_bin=256,\n",
       "                              max_cat_to_onehot=4, max_delta_step=0,\n",
       "                              max_depth=6, max_leaves=0, min_child_weight=1,\n",
       "                              missing=nan, monotone_constraints='()',\n",
       "                              n_estimators=100, n_jobs=0, num_parallel_tree=1,\n",
       "                              predictor='auto', random_state=0, reg_alpha=0,\n",
       "                              reg_lambda=1, ...))])"
      ]
     },
     "execution_count": 35,
     "metadata": {},
     "output_type": "execute_result"
    }
   ],
   "source": [
    "# Fit the pipelines on the training data\n",
    "ada_pipeline.fit(X_train, y_train)\n",
    "lgbm_pipeline.fit(X_train, y_train)\n",
    "xgb_pipeline.fit(X_train, y_train)"
   ]
  },
  {
   "cell_type": "code",
   "execution_count": 36,
   "id": "a5b1fe7c",
   "metadata": {},
   "outputs": [],
   "source": [
    "# Evaluate the models\n",
    "r2_ada = r2_score(y_test, ada_pipeline.predict(X_test))\n",
    "r2_lgbm = r2_score(y_test, lgbm_pipeline.predict(X_test))\n",
    "r2_xgb = r2_score(y_test, xgb_pipeline.predict(X_test))\n",
    "\n"
   ]
  },
  {
   "cell_type": "code",
   "execution_count": 37,
   "id": "7091c45e",
   "metadata": {},
   "outputs": [
    {
     "name": "stdout",
     "output_type": "stream",
     "text": [
      "AdaBoost R-squared: -0.0013587248829549647\n",
      "LightGBM R-squared: -5.090171304455993e-07\n",
      "XGBoost R-squared: -4.7408331549370075e-07\n"
     ]
    }
   ],
   "source": [
    "print(\"AdaBoost R-squared:\", r2_ada)\n",
    "print(\"LightGBM R-squared:\", r2_lgbm)\n",
    "print(\"XGBoost R-squared:\", r2_xgb)"
   ]
  },
  {
   "cell_type": "code",
   "execution_count": null,
   "id": "84f2ba52",
   "metadata": {},
   "outputs": [],
   "source": []
  }
 ],
 "metadata": {
  "kernelspec": {
   "display_name": "Python 3 (ipykernel)",
   "language": "python",
   "name": "python3"
  },
  "language_info": {
   "codemirror_mode": {
    "name": "ipython",
    "version": 3
   },
   "file_extension": ".py",
   "mimetype": "text/x-python",
   "name": "python",
   "nbconvert_exporter": "python",
   "pygments_lexer": "ipython3",
   "version": "3.7.16"
  }
 },
 "nbformat": 4,
 "nbformat_minor": 5
}
